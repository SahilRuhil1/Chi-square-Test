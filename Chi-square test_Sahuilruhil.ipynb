{
 "cells": [
  {
   "cell_type": "markdown",
   "id": "58cd0f52",
   "metadata": {},
   "source": [
    "# Step 1: Stating the Hypothesis"
   ]
  },
  {
   "cell_type": "markdown",
   "id": "b3a8923c",
   "metadata": {},
   "source": [
    "1) Null hypothesis(H0): Here we assume that there is no association between the type of device (Smart Thermostat or Smart Light) and customer satisfaction level.\n",
    "\n",
    "2) Alternative Hypothesis(H1): Here we assume that there is an association between the type of device and customer satisfaction level.\n"
   ]
  },
  {
   "cell_type": "markdown",
   "id": "72493426",
   "metadata": {},
   "source": [
    "# Step 2: Computing the Chi-square statistics:"
   ]
  },
  {
   "cell_type": "code",
   "execution_count": 1,
   "id": "3586d493",
   "metadata": {},
   "outputs": [],
   "source": [
    "import numpy as np\n",
    "import pandas as pd\n",
    "from scipy.stats import chi2_contingency\n"
   ]
  },
  {
   "cell_type": "code",
   "execution_count": 2,
   "id": "ee324b6f",
   "metadata": {},
   "outputs": [],
   "source": [
    "# Data for the contingency table\n",
    "data = np.array([\n",
    "    [50, 70],  # Very Satisfied\n",
    "    [80, 100],  # Satisfied\n",
    "    [60, 90],   # Neutral\n",
    "    [30, 50],   # Unsatisfied\n",
    "    [20, 50]    # Very Unsatisfied\n",
    "])\n"
   ]
  },
  {
   "cell_type": "code",
   "execution_count": 3,
   "id": "2cebaa00",
   "metadata": {},
   "outputs": [],
   "source": [
    "# Creating a DataFrame for better readability \n",
    "\n",
    "df = pd.DataFrame(data, columns=['Smart Thermostat', 'Smart Light'], \n",
    "                  index=['Very Satisfied', 'Satisfied', 'Neutral', 'Unsatisfied', 'Very Unsatisfied'])\n"
   ]
  },
  {
   "cell_type": "code",
   "execution_count": 4,
   "id": "dc00fd90",
   "metadata": {},
   "outputs": [],
   "source": [
    "# Applying the chi2_contingency function to get the chi-square statistic and p-value\n",
    "\n",
    "chi2_stat, p_value, dof, expected = chi2_contingency(df)"
   ]
  },
  {
   "cell_type": "code",
   "execution_count": 5,
   "id": "a5961c65",
   "metadata": {},
   "outputs": [
    {
     "name": "stdout",
     "output_type": "stream",
     "text": [
      "Chi-Square Statistic: 5.638227513227513\n",
      "Degrees of Freedom: 4\n",
      "P-Value: 0.22784371130697179\n",
      "Expected Frequencies:\n",
      " [[ 48.  72.]\n",
      " [ 72. 108.]\n",
      " [ 60.  90.]\n",
      " [ 32.  48.]\n",
      " [ 28.  42.]]\n"
     ]
    }
   ],
   "source": [
    "# Displaying the results\n",
    "print(\"Chi-Square Statistic:\", chi2_stat)\n",
    "print(\"Degrees of Freedom:\", dof)\n",
    "print(\"P-Value:\", p_value)\n",
    "print(\"Expected Frequencies:\\n\", expected)"
   ]
  },
  {
   "cell_type": "markdown",
   "id": "edc53b9e",
   "metadata": {},
   "source": [
    "# Step 3: Determining the critical values"
   ]
  },
  {
   "cell_type": "code",
   "execution_count": 6,
   "id": "69bcdf07",
   "metadata": {},
   "outputs": [],
   "source": [
    "from scipy.stats import chi2"
   ]
  },
  {
   "cell_type": "code",
   "execution_count": 7,
   "id": "b3143bd5",
   "metadata": {},
   "outputs": [],
   "source": [
    "# Significance level\n",
    "\n",
    "alpha = 0.05\n"
   ]
  },
  {
   "cell_type": "code",
   "execution_count": 8,
   "id": "bd50fd4b",
   "metadata": {},
   "outputs": [
    {
     "name": "stdout",
     "output_type": "stream",
     "text": [
      "Critical Value at alpha=0.05: 9.487729036781154\n"
     ]
    }
   ],
   "source": [
    "# Calculating the critical value from the Chi-Square distribution\n",
    "\n",
    "critical_value = chi2.ppf(1 - alpha, dof)\n",
    "print(\"Critical Value at alpha=0.05:\", critical_value)"
   ]
  },
  {
   "cell_type": "markdown",
   "id": "87329cc8",
   "metadata": {},
   "source": [
    "# Step 4: Decision Making"
   ]
  },
  {
   "cell_type": "code",
   "execution_count": 9,
   "id": "13381af8",
   "metadata": {},
   "outputs": [
    {
     "name": "stdout",
     "output_type": "stream",
     "text": [
      "Fail to reject the null hypothesis: No significant association between the type of device and customer satisfaction.\n"
     ]
    }
   ],
   "source": [
    "# Decision based on Chi-Square Statistic and Critical Value\n",
    "if chi2_stat > critical_value:\n",
    "    print(\"Reject the null hypothesis: There is a significant association between the type of device and customer satisfaction.\")\n",
    "else:\n",
    "    print(\"Fail to reject the null hypothesis: No significant association between the type of device and customer satisfaction.\")"
   ]
  },
  {
   "cell_type": "markdown",
   "id": "7b5cac6b",
   "metadata": {},
   "source": [
    "We fail to reject the null hypothesis as there is no significant association between device and  customer satisfaction"
   ]
  }
 ],
 "metadata": {
  "kernelspec": {
   "display_name": "Python 3 (ipykernel)",
   "language": "python",
   "name": "python3"
  },
  "language_info": {
   "codemirror_mode": {
    "name": "ipython",
    "version": 3
   },
   "file_extension": ".py",
   "mimetype": "text/x-python",
   "name": "python",
   "nbconvert_exporter": "python",
   "pygments_lexer": "ipython3",
   "version": "3.11.5"
  }
 },
 "nbformat": 4,
 "nbformat_minor": 5
}
